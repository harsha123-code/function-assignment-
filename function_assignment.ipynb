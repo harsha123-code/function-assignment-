{
  "nbformat": 4,
  "nbformat_minor": 0,
  "metadata": {
    "colab": {
      "private_outputs": true,
      "provenance": []
    },
    "kernelspec": {
      "name": "python3",
      "display_name": "Python 3"
    },
    "language_info": {
      "name": "python"
    }
  },
  "cells": [
    {
      "cell_type": "markdown",
      "source": [
        "**Theory Questions:**"
      ],
      "metadata": {
        "id": "DVbWHLdiZI69"
      }
    },
    {
      "cell_type": "markdown",
      "source": [
        "1. What is the difference between a function and a method in Python?\n",
        "-->- Function: Defined using def, works independently (e.g., len(), print()).\n",
        "- Method: A function that’s associated with an object, and called using dot notation (e.g., \"hello\".upper() is a method of a string object).\n",
        "\n"
      ],
      "metadata": {
        "id": "q55KY5wG2z6T"
      }
    },
    {
      "cell_type": "markdown",
      "source": [
        "2. Explain the concept of function arguments and parameters in Python.\n",
        "-->- Arguments are the actual values passed to the function when it's called.\n",
        "- Parameters are the names listed in a function definition.\n",
        "def greet(name):  # 'name' is a parameter\n",
        "    print(\"Hello\", name)\n",
        "greet(\"Harshada\")  # \"Harshada\" is an argument\n",
        "\n",
        "\n",
        "\n"
      ],
      "metadata": {
        "id": "cDehpvM32z8e"
      }
    },
    {
      "cell_type": "markdown",
      "source": [
        "3. What are the different ways to define and call a function in Python?\n",
        "-->Standard Function:def greet(name):\n",
        "\n",
        "    return f\"Hello, {name}\"\n",
        "\n",
        " Function with Default Parameter:def greet(name=\"Friend\")\n",
        "\n",
        "    return f\"Hello, {name}\"\n",
        "\n",
        "Function with Variable-length Arguments:def add(*nums):\n",
        "\n",
        "    return sum(nums)\n",
        "\n",
        "def print_info(**data):\n",
        "\n",
        "    for key, value in data.items():\n",
        "        print(f\"{key}: {value}\")\n",
        "\n",
        "Lambda Function (anonymous)\n"
      ],
      "metadata": {
        "id": "-9wq6zMo20BU"
      }
    },
    {
      "cell_type": "markdown",
      "source": [
        "4. What is the purpose of the `return` statement in a Python function?\n",
        "-->he return statement in Python is used to send back a result from a function to the place where it was called. It ends the function’s execution and optionally passes a value back. Without return, a function returns None by default. For example, in a calculator function, return result sends the computed value back so it can be used or stored elsewhere in the program. This makes your functions more flexible, reusable, and useful in larger programs.\n"
      ],
      "metadata": {
        "id": "Ur9ZP0BY20EO"
      }
    },
    {
      "cell_type": "markdown",
      "source": [
        "5. What are iterators in Python and how do they differ from iterables?\n",
        "-->- An iterable is any object you can loop over (like lists, tuples, strings). It implements the __iter__() method and returns an iterator.\n",
        "\n",
        "   An iterator is an object with a __next__() method that returns one item at a time. It remembers its position between calls, and when there are no more items\n",
        "\n"
      ],
      "metadata": {
        "id": "KGpSDGpn20Hj"
      }
    },
    {
      "cell_type": "markdown",
      "source": [
        "6. Explain the concept of generators in Python and how they are defined\n",
        "-->Generators in Python are a special type of iterator that allow you to yield values one at a time, pausing and resuming execution, which makes them memory-efficient—especially for large datasets.\n",
        "They're defined using a function with the yield keyword instead of return.\n",
        "def count_up_to(n):\n",
        "    count = 1\n",
        "    while count <= n:\n",
        "        yield count\n",
        "        count += 1\n",
        "\n",
        "\n",
        "When you call count_up_to(3), it returns a generator object. Each time you use next(), it resumes from where it left off and yields the next value.\n",
        "Generators don’t store all values in memory—they generate values on the fly, which makes them ideal for big loops or streaming data.\n",
        "Would you like me to put this into a neat paragraph for your exam too?\n"
      ],
      "metadata": {
        "id": "3BBJ0Hhg20Jk"
      }
    },
    {
      "cell_type": "markdown",
      "source": [
        "7. What are the advantages of using generators over regular functions?\n",
        "-->- Memory Efficiency: Generators yield items one at a time and don’t store the entire result in memory, unlike regular functions that return all values at once using a list.\n",
        "- Lazy Evaluation: Values are produced only when needed, which can significantly improve performance for large or infinite sequences.\n",
        "- State Preservation: Each yield pauses the function, preserving its state, so when resumed, execution picks up right where it left off.\n",
        "- Cleaner Code: Generators can replace complex iterator classes with simple, readable functions using yield.\n"
      ],
      "metadata": {
        "id": "I15fX03z20Ls"
      }
    },
    {
      "cell_type": "markdown",
      "source": [
        "8. What is a lambda function in Python and when is it typically used?\n",
        "--> lambda function in Python is an anonymous, single-line function defined using the lambda keyword instead of def. It’s typically used for short, throwaway functions that are needed temporarily—especially as arguments to higher-order functions like map(), filter(), or sorted().\n"
      ],
      "metadata": {
        "id": "-kWXzMkj20N2"
      }
    },
    {
      "cell_type": "markdown",
      "source": [
        "9. Explain the purpose and usage of the `map()` function in Python.\n",
        "-->The map() function in Python is used to apply a function to every item in an iterable (like a list or tuple) and return a new map object containing the results. It's especially useful for transforming data without writing explicit loops.\n",
        "\n",
        "-streamline operations like transformation, conversion, or computation on each element of a sequence.\n",
        "\n",
        "-numbers = [1, 2, 3, 4]\n",
        "squares = map(lambda x: x ** 2, numbers)\n",
        "print(list(squares))  # Output: [1, 4, 9, 16]\n",
        "\n"
      ],
      "metadata": {
        "id": "6Ao524iO20Pu"
      }
    },
    {
      "cell_type": "markdown",
      "source": [
        "10. What is the difference between `map()`, `reduce()`, and `filter()` functions in Python?\n",
        "-->- map() applies a function to each item in an iterable and returns a new iterator with the results.\n",
        "\n",
        "\n",
        "➤ Used for transformation.\n",
        "Example: map(lambda x: x*2, [1, 2, 3]) → [2, 4, 6]\n",
        "\n",
        "- filter() applies a function that returns True or False and filters out items that don't pass the test.\n",
        "➤ Used for selection.\n",
        "Example: filter(lambda x: x%2 == 0, [1, 2, 3, 4]) → [2, 4]\n",
        "\n",
        "- reduce() (from the functools module) applies a function cumulatively, reducing the iterable to a single value.\n",
        "➤ Used for aggregation.\n",
        "Example: reduce(lambda x, y: x + y, [1, 2, 3, 4]) → 10\n",
        "\n"
      ],
      "metadata": {
        "id": "mApaLvnp20Rs"
      }
    },
    {
      "cell_type": "markdown",
      "source": [
        "11\n",
        "\n",
        "\n"
      ],
      "metadata": {
        "id": "nFGSoKIxbVHa"
      }
    },
    {
      "cell_type": "markdown",
      "source": [
        "# **Practical Questions:**"
      ],
      "metadata": {
        "id": "2mL2L6e75HBR"
      }
    },
    {
      "cell_type": "code",
      "source": [
        "#1. Write a Python function that takes a list of numbers as input and returns the sum of all even numbers i\n",
        "def sum_even_numbers(numbers):\n",
        "    even_sum = sum(num for num in numbers if num % 2 == 0)\n",
        "    return even_sum\n",
        "\n",
        "\n",
        "my_list = [1, 2, 3, 4, 5, 6]\n",
        "print(\"Sum of even numbers:\", sum_even_numbers(my_list))\n",
        "\n"
      ],
      "metadata": {
        "id": "AUuhB7UH2uA-"
      },
      "execution_count": null,
      "outputs": []
    },
    {
      "cell_type": "code",
      "source": [
        "# 2. Create a Python function that accepts a string and returns the reverse of that string\n",
        "def rev_string(s):\n",
        "  return s[::-1]\n",
        "\n",
        "str=\"hello world\"\n",
        "\n",
        "print(str)\n",
        "print(f\"the reverse string is :{rev_string(str)}\")"
      ],
      "metadata": {
        "id": "1g8ZNwHt2uCz"
      },
      "execution_count": null,
      "outputs": []
    },
    {
      "cell_type": "code",
      "source": [
        "# 3. Implement a Python function that takes a list of integers and returns a new list containing the squares o each number.\n",
        "def square_int(numbers):\n",
        " sq=[]\n",
        " for i in numbers:\n",
        "  sq.append(i**2)\n",
        " return sq\n",
        "number=[1,2,3,4,5,6,7]\n",
        "print(f\"The original list is: {number}\")\n",
        "print(f\"The squares of the list elements are: {square_int(number)}\")"
      ],
      "metadata": {
        "id": "tjBwcuc32uEy"
      },
      "execution_count": null,
      "outputs": []
    },
    {
      "cell_type": "code",
      "source": [
        "def check_prime(no):\n",
        "  if no <= 1:\n",
        "    return False\n",
        "  for i in range(2, int(no**0.5) + 1):\n",
        "    if no % i == 0:\n",
        "      return False\n",
        "  return True\n",
        "\n",
        "number_to_check = 3\n",
        "if check_prime(number_to_check):\n",
        "  print(f\"{number_to_check} is a prime number\")\n",
        "else:\n",
        "  print(f\"{number_to_check} is not a prime number\")\n",
        "\n"
      ],
      "metadata": {
        "id": "jIJUYS_J2uG7"
      },
      "execution_count": null,
      "outputs": []
    },
    {
      "cell_type": "code",
      "source": [
        "#6. Write a generator function in Python that yields the powers of 2 up to a given exponent.\n",
        "def powers_of_two(n):\n",
        "  for i in range(n+1):\n",
        "    yield 2**i\n",
        "\n",
        "number=powers_of_two(5)\n",
        "for i in number:\n",
        "  print(i)"
      ],
      "metadata": {
        "id": "xNvhZzbk2uW9"
      },
      "execution_count": null,
      "outputs": []
    },
    {
      "cell_type": "code",
      "source": [
        "# 7. Implement a generator function that reads a file line by line and yields each line as a string\n",
        "def read_file(filename):\n",
        "  with open(filename, 'r') as file:\n",
        "    for line in file:\n",
        "      yield line"
      ],
      "metadata": {
        "id": "fxaejEPc2uZq"
      },
      "execution_count": null,
      "outputs": []
    },
    {
      "cell_type": "code",
      "source": [
        "# 8. Use a lambda function in Python to sort a list of tuples based on the second element of each tuple.\n",
        "t=(3,45,67,12,23,27)\n",
        "sort=sorted(t,key=lambda x:x)\n",
        "print(sort)\n"
      ],
      "metadata": {
        "id": "I2T6QuJ12udE"
      },
      "execution_count": null,
      "outputs": []
    },
    {
      "cell_type": "code",
      "source": [
        "# 9. Write a Python program that uses `map()` to convert a list of temperatures from Celsius to Fahrenheit.\n",
        "temp_celsius = [21, 34, 54, 56, 78]\n",
        "\n",
        "def celsius_to_fahrenheit(celsius):\n",
        "  return (celsius * 9/5) + 32\n",
        "\n",
        "temp_fahrenheit = list(map(celsius_to_fahrenheit, temp_celsius))\n",
        "\n",
        "print(f\"Celsius temperatures: {temp_celsius}\")\n",
        "print(f\"Fahrenheit temperatures: {temp_fahrenheit}\")"
      ],
      "metadata": {
        "id": "qhAO3-dz4fQ4"
      },
      "execution_count": null,
      "outputs": []
    },
    {
      "cell_type": "code",
      "source": [
        "#10. Create a Python program that uses `filter()` to remove all the vowels from a given string.\n",
        "def remove_vo(s):\n",
        "  vowel=['a','e','i','o','u','A','E','I','O','U']\n",
        "  return \"\".join(filter(lambda x: x not in vowel, s))\n",
        "\n",
        "s=\"harshada\"\n",
        "result = remove_vo(s)\n",
        "print(f\"Original string: {s}\")\n",
        "print(f\"String after removing vowels: {result}\")"
      ],
      "metadata": {
        "id": "EBSXWq1g4fOy"
      },
      "execution_count": null,
      "outputs": []
    },
    {
      "cell_type": "code",
      "source": [
        "# 11) Imagine an accounting routine used in a book shop. It works on a list with sublists, which look like this:\n",
        "\n",
        "# Write a Python program, which returns a list with 2-tuples. Each tuple consists of the order number and the\n",
        " # product of the price per item and the quantity. The product should be increased by 10,- € if the value of the\n",
        " # order is smaller than 100,00 €.\n",
        "\n",
        "orders = [\n",
        "    [34587, \"Learning Python, Mark Lutz\", 4, 40.95],\n",
        "    [98762, \"Programming Python, Mark Lutz\", 5, 56.80],\n",
        "    [77226, \"Head First Python, Paul Barry\", 3, 32.95],\n",
        "    [88112, \"Einführung in Python3, Bernd Klein\", 3, 24.99]\n",
        "]\n",
        "\n",
        "\n",
        "order_totals = [(order[0], order[2] * order[3] + (10 if order[2] * order[3] < 100 else 0)) for order in orders]\n",
        "\n",
        "print(order_totals)"
      ],
      "metadata": {
        "id": "pxNaySJI4scc"
      },
      "execution_count": null,
      "outputs": []
    },
    {
      "cell_type": "code",
      "source": [
        "# Write a Python program using lambda and map.\n",
        "\n",
        "numbers = [1, 2, 3, 4, 5]\n",
        "squared_numbers = list(map(lambda x: x ** 2, numbers))\n",
        "\n",
        "\n",
        "print(\"Original list:\", numbers)\n",
        "print(\"Squared list:\", squared_numbers)"
      ],
      "metadata": {
        "id": "RggZcI_l4sad"
      },
      "execution_count": null,
      "outputs": []
    }
  ]
}